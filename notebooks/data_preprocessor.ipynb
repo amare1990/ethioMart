{
 "cells": [
  {
   "cell_type": "code",
   "execution_count": 1,
   "id": "8ab9696f-c2da-44de-9a04-de0b2a56fa4f",
   "metadata": {},
   "outputs": [
    {
     "data": {
      "text/plain": [
       "('/home/am/Documents/Software Development/10_Academy Training/week5/ethioMart/notebooks',\n",
       " '/home/am/Documents/Software Development/10_Academy Training/week5/ethioMart')"
      ]
     },
     "execution_count": 1,
     "metadata": {},
     "output_type": "execute_result"
    }
   ],
   "source": [
    "import os, sys\n",
    "curr_dir = os.getcwd()\n",
    "parent_dir = os.path.dirname(curr_dir)\n",
    "sys.path.insert(0, parent_dir)\n",
    "curr_dir, parent_dir"
   ]
  },
  {
   "cell_type": "code",
   "execution_count": 2,
   "id": "66dd134b-d3aa-465a-a44b-83263185e901",
   "metadata": {},
   "outputs": [],
   "source": [
    "import pandas as pd"
   ]
  },
  {
   "cell_type": "code",
   "execution_count": 3,
   "id": "5dcb1379-e914-4d5a-b693-44159bdccbd6",
   "metadata": {},
   "outputs": [],
   "source": [
    "from scripts.data_preprocessor import DataProcessor\n",
    "# Initialize the data processor\n",
    "processor = DataProcessor(phone_number, 'downloads')"
   ]
  },
  {
   "cell_type": "code",
   "execution_count": null,
   "id": "e9f0bdf0-a9fe-4a64-85da-8b93f69128c9",
   "metadata": {},
   "outputs": [],
   "source": [
    "# Async main function\n",
    "async def main():\n",
    "    # Connect to Telegram\n",
    "    await processor.connect_to_telegram()\n",
    "\n",
    "    # Fetch data from channels\n",
    "    await processor.fetch_data_from_channels(channels)"
   ]
  },
  {
   "cell_type": "code",
   "execution_count": null,
   "id": "d8d8b8ba-3643-4cd4-a78b-d009c679a4f4",
   "metadata": {},
   "outputs": [],
   "source": [
    "# Run the main function\n",
    "await main()"
   ]
  },
  {
   "cell_type": "code",
   "execution_count": null,
   "id": "f5bf130b-25a0-427e-8d36-7391e228b29d",
   "metadata": {},
   "outputs": [],
   "source": [
    "# To preprocess and clean data\n",
    "processor.clean_and_structure_data()"
   ]
  },
  {
   "cell_type": "code",
   "execution_count": 4,
   "id": "eb5c58fc-b942-4820-8e50-c369b15855e8",
   "metadata": {},
   "outputs": [],
   "source": [
    "# To store data\n",
    "processor.store_data()"
   ]
  },
  {
   "cell_type": "code",
   "execution_count": null,
   "id": "f043c477-d923-4796-99e4-22274c3af873",
   "metadata": {},
   "outputs": [],
   "source": []
  }
 ],
 "metadata": {
  "kernelspec": {
   "display_name": "Python 3 (ipykernel)",
   "language": "python",
   "name": "python3"
  },
  "language_info": {
   "codemirror_mode": {
    "name": "ipython",
    "version": 3
   },
   "file_extension": ".py",
   "mimetype": "text/x-python",
   "name": "python",
   "nbconvert_exporter": "python",
   "pygments_lexer": "ipython3",
   "version": "3.8.10"
  }
 },
 "nbformat": 4,
 "nbformat_minor": 5
}
