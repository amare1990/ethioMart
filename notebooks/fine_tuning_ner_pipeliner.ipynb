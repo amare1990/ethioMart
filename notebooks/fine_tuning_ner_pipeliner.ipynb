{
 "cells": [
  {
   "cell_type": "code",
   "execution_count": 1,
   "id": "6fb0b704-1822-4c8a-9c80-769e065f0b56",
   "metadata": {},
   "outputs": [
    {
     "data": {
      "text/plain": [
       "('/home/am/Documents/Software Development/10_Academy Training/week5/ethioMart/notebooks',\n",
       " '/home/am/Documents/Software Development/10_Academy Training/week5/ethioMart')"
      ]
     },
     "execution_count": 1,
     "metadata": {},
     "output_type": "execute_result"
    }
   ],
   "source": [
    "import os, sys\n",
    "curr_dir = os.getcwd()\n",
    "parent_dir = os.path.dirname(curr_dir)\n",
    "sys.path.insert(0, parent_dir)\n",
    "curr_dir, parent_dir"
   ]
  },
  {
   "cell_type": "code",
   "execution_count": 2,
   "id": "64b0a4a1-5138-45cb-a764-c79e56e75061",
   "metadata": {},
   "outputs": [],
   "source": [
    "import pandas as pd"
   ]
  },
  {
   "cell_type": "code",
   "execution_count": null,
   "id": "f354904c-b2df-41e4-bdf0-fa07c16cf101",
   "metadata": {},
   "outputs": [],
   "source": [
    "# Calling the fine_tuning_ner_pipeliner\n",
    "from scripts.fine_tuning_ner_pipeliner import fine_tune_ner_model\n",
    "fine_tune_ner_model()"
   ]
  }
 ],
 "metadata": {
  "kernelspec": {
   "display_name": "Python 3 (ipykernel)",
   "language": "python",
   "name": "python3"
  },
  "language_info": {
   "codemirror_mode": {
    "name": "ipython",
    "version": 3
   },
   "file_extension": ".py",
   "mimetype": "text/x-python",
   "name": "python",
   "nbconvert_exporter": "python",
   "pygments_lexer": "ipython3",
   "version": "3.8.10"
  }
 },
 "nbformat": 4,
 "nbformat_minor": 5
}
