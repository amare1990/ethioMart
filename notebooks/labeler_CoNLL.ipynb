{
 "cells": [
  {
   "cell_type": "code",
   "execution_count": 12,
   "id": "94768c00-3983-4de8-9aae-96b0b4a58ef3",
   "metadata": {},
   "outputs": [
    {
     "data": {
      "text/plain": [
       "('/home/am/Documents/Software Development/10_Academy Training/week5/ethioMart/notebooks',\n",
       " '/home/am/Documents/Software Development/10_Academy Training/week5/ethioMart')"
      ]
     },
     "execution_count": 12,
     "metadata": {},
     "output_type": "execute_result"
    }
   ],
   "source": [
    "import os, sys\n",
    "curr_dir = os.getcwd()\n",
    "parent_dir = os.path.dirname(curr_dir)\n",
    "sys.path.insert(0, parent_dir)\n",
    "curr_dir, parent_dir"
   ]
  },
  {
   "cell_type": "code",
   "execution_count": 13,
   "id": "61a8e986-a8ef-46d2-b19f-5703c4ea89cc",
   "metadata": {},
   "outputs": [],
   "source": [
    "import pandas as pd"
   ]
  },
  {
   "cell_type": "code",
   "execution_count": 14,
   "id": "cbe32ca9-b0d6-476a-8745-8cb85598a099",
   "metadata": {},
   "outputs": [],
   "source": [
    "from scripts.labeling_CoNLL import CoNLLLabeler"
   ]
  },
  {
   "cell_type": "code",
   "execution_count": null,
   "id": "466c6bbc-8a9f-43d3-9a6a-6c32a8c6f84f",
   "metadata": {},
   "outputs": [],
   "source": [
    "\n",
    "# Example dataset\n",
    "data = \"../data/preprocessed_data.csv\"\n",
    "labeler = CoNLLLabeler(data)\n",
    "labeler.label_dataset()\n",
    "\n",
    "labeler.save_to_file(\"labeled_dataset.conll\")  # Save to file (inside data folder)\n"
   ]
  }
 ],
 "metadata": {
  "kernelspec": {
   "display_name": "Python 3 (ipykernel)",
   "language": "python",
   "name": "python3"
  },
  "language_info": {
   "codemirror_mode": {
    "name": "ipython",
    "version": 3
   },
   "file_extension": ".py",
   "mimetype": "text/x-python",
   "name": "python",
   "nbconvert_exporter": "python",
   "pygments_lexer": "ipython3",
   "version": "3.8.10"
  }
 },
 "nbformat": 4,
 "nbformat_minor": 5
}
