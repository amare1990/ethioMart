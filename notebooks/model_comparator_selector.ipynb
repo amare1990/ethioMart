{
 "cells": [
  {
   "cell_type": "code",
   "execution_count": 1,
   "id": "692fb05d-8380-4099-967a-c65a836b202d",
   "metadata": {},
   "outputs": [],
   "source": [
    "import os, sys\n",
    "curr_dir = os.getcwd()\n",
    "parent_dir = os.path.dirname(curr_dir)\n",
    "sys.path.insert(0, parent_dir)"
   ]
  },
  {
   "cell_type": "code",
   "execution_count": 2,
   "id": "017574a5-22f8-48ce-9e5d-510c596f5ac8",
   "metadata": {},
   "outputs": [],
   "source": [
    "import pandas as pd"
   ]
  },
  {
   "cell_type": "code",
   "execution_count": 5,
   "id": "4f72b2e4-453a-426e-b655-4082d9fbfe55",
   "metadata": {},
   "outputs": [],
   "source": [
    "# Load model comparator from the module\n",
    "from scripts.model_comparison_selection import NERModelComparison\n",
    "\n",
    "# Instantiate the NERModelComparison class\n",
    "model_comparator = NERModelComparison(dataset_path='../data/labeled_dataset.conll')\n",
    "\n",
    "def model_comparison():  \n",
    "    # Load the CoNLL-formatted data\n",
    "    model_comparator.load_data()\n",
    "    print('Loaded the CoNLL data format successfully.')\n",
    "    print(\"\\n*********************************************************\\n\")\n",
    "    \n",
    "    # Print initial model performance dictionary (should be empty initially)\n",
    "    print(\"Initial model performance dictionary:\", model_comparator.model_performance)\n",
    "    \n",
    "    # Compare models\n",
    "    print(\"Starting model comparison...\")\n",
    "    best_model_accuracy, best_model_speed, best_model_training_speed = model_comparator.compare_models()\n",
    "    print(\"Finished comparing models.\")\n",
    "\n",
    "    # Output best models based on the comparison\n",
    "    print(f\"Best Model by Accuracy: {best_model_accuracy}\")\n",
    "    print(f\"Best Model by Speed (evaluation time/speed): {best_model_speed}\")\n",
    "    print(f\"Best Model by Training Time: {best_model_training_speed}\")\n",
    "\n"
   ]
  },
  {
   "cell_type": "code",
   "execution_count": null,
   "id": "5988a18c-4750-4527-b784-edb75d14cecb",
   "metadata": {},
   "outputs": [],
   "source": [
    "import wandb\n",
    "import random\n",
    "\n",
    "# start a new wandb run to track this script\n",
    "wandb.init(\n",
    "    # set the wandb project where this run will be logged\n",
    "    project=\"my-awesome-project\",\n",
    "\n",
    "    # track hyperparameters and run metadata\n",
    "    config={\n",
    "    \"learning_rate\": 0.02,\n",
    "    \"architecture\": \"CNN\",\n",
    "    \"dataset\": \"CIFAR-100\",\n",
    "    \"epochs\": 10,\n",
    "    }\n",
    ")\n",
    "\n",
    "# simulate training\n",
    "epochs = 10\n",
    "offset = random.random() / 5\n",
    "for epoch in range(2, epochs):\n",
    "    acc = 1 - 2 ** -epoch - random.random() / epoch - offset\n",
    "    loss = 2 ** -epoch + random.random() / epoch + offset\n",
    "\n",
    "    # log metrics to wandb\n",
    "    wandb.log({\"acc\": acc, \"loss\": loss})\n",
    "\n",
    "# [optional] finish the wandb run, necessary in notebooks\n",
    "wandb.finish()"
   ]
  },
  {
   "cell_type": "code",
   "execution_count": null,
   "id": "f4c90b19-6a80-4098-ac02-3a91dc35c546",
   "metadata": {},
   "outputs": [],
   "source": [
    "# Run the model comparison function\n",
    "model_comparison()\n"
   ]
  }
 ],
 "metadata": {
  "kernelspec": {
   "display_name": "Python 3 (ipykernel)",
   "language": "python",
   "name": "python3"
  },
  "language_info": {
   "codemirror_mode": {
    "name": "ipython",
    "version": 3
   },
   "file_extension": ".py",
   "mimetype": "text/x-python",
   "name": "python",
   "nbconvert_exporter": "python",
   "pygments_lexer": "ipython3",
   "version": "3.8.10"
  }
 },
 "nbformat": 4,
 "nbformat_minor": 5
}
