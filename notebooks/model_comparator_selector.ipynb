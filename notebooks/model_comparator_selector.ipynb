{
 "cells": [
  {
   "cell_type": "code",
   "execution_count": 3,
   "id": "692fb05d-8380-4099-967a-c65a836b202d",
   "metadata": {},
   "outputs": [],
   "source": [
    "import os, sys\n",
    "curr_dir = os.getcwd()\n",
    "parent_dir = os.path.dirname(curr_dir)\n",
    "sys.path.insert(0, parent_dir)"
   ]
  },
  {
   "cell_type": "code",
   "execution_count": 2,
   "id": "017574a5-22f8-48ce-9e5d-510c596f5ac8",
   "metadata": {},
   "outputs": [],
   "source": [
    "import pandas as pd"
   ]
  },
  {
   "cell_type": "code",
   "execution_count": null,
   "id": "a6bd84e2-4d84-4e90-a9e9-951ea0201d78",
   "metadata": {},
   "outputs": [],
   "source": [
    "# Load model comparator from the module\n",
    "from scripts.model_comparison_selection import NERModelComparison\n",
    "\n",
    "dataset_path='../data/labeled_dataset.conll'\n",
    "# Instantiate the class\n",
    "model_comparator = NERModelComparison(dataset_path)\n",
    "# Load the CoNLL format data\n",
    "comparison.load_data()\n",
    "# Compare the models and select the best\n",
    "best_model = comparison.compare_models()"
   ]
  }
 ],
 "metadata": {
  "kernelspec": {
   "display_name": "Python 3 (ipykernel)",
   "language": "python",
   "name": "python3"
  },
  "language_info": {
   "codemirror_mode": {
    "name": "ipython",
    "version": 3
   },
   "file_extension": ".py",
   "mimetype": "text/x-python",
   "name": "python",
   "nbconvert_exporter": "python",
   "pygments_lexer": "ipython3",
   "version": "3.8.10"
  }
 },
 "nbformat": 4,
 "nbformat_minor": 5
}
