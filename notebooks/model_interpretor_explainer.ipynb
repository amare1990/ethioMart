{
 "cells": [
  {
   "cell_type": "code",
   "execution_count": 1,
   "id": "21cb1c6d-182a-491a-9165-59a3331d10d5",
   "metadata": {},
   "outputs": [],
   "source": [
    "import os, sys\n",
    "curr_dir = os.getcwd()\n",
    "parent_dir = os.path.dirname(curr_dir)\n",
    "sys.path.insert(0, parent_dir)"
   ]
  },
  {
   "cell_type": "code",
   "execution_count": 2,
   "id": "47fc570a-7c83-4d7d-90dc-4975d63a8d0c",
   "metadata": {},
   "outputs": [],
   "source": [
    "import pandas as pd"
   ]
  },
  {
   "cell_type": "code",
   "execution_count": null,
   "id": "f8359067-9241-4966-82c7-76c2b4f54f8c",
   "metadata": {
    "scrolled": true
   },
   "outputs": [],
   "source": [
    "# Load the module\n",
    "from scripts.model_comparison_selection import NERModelComparison\n",
    "from scripts.model_interpretability_explainability import NERModelInterpretability\n",
    "import random\n",
    "\n",
    "# Initialize model comparator\n",
    "model_comparator = NERModelComparison(dataset_path='../data/labeled_dataset.conll')\n",
    "\n",
    "# Retrieve tokenized validation data\n",
    "tokenized_data = model_comparator.get_tokenized_data()\n",
    "print(tokenized_data)\n",
    "val_data = tokenized_data['val']\n",
    "\n",
    "# Randomly select a sentence\n",
    "random_idx = random.randint(0, len(val_data) - 1)\n",
    "test_sentence = val_data[random_idx]\n",
    "\n",
    "# Initialize interpretability\n",
    "interpretability = NERModelInterpretability()\n",
    "\n",
    "# Analyze the sentence\n",
    "print(f'The randomly selcted sentence is\\n {test_sentence}')\n",
    "interpretability.analyze_single_sentence(test_sentence)\n",
    "\n",
    "# Generate a report\n",
    "report = interpretability.generate_report()\n",
    "print(report)\n"
   ]
  }
 ],
 "metadata": {
  "kernelspec": {
   "display_name": "Python 3 (ipykernel)",
   "language": "python",
   "name": "python3"
  },
  "language_info": {
   "codemirror_mode": {
    "name": "ipython",
    "version": 3
   },
   "file_extension": ".py",
   "mimetype": "text/x-python",
   "name": "python",
   "nbconvert_exporter": "python",
   "pygments_lexer": "ipython3",
   "version": "3.8.10"
  }
 },
 "nbformat": 4,
 "nbformat_minor": 5
}
